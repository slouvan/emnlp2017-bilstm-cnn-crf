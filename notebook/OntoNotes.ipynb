{
 "cells": [
  {
   "cell_type": "code",
   "execution_count": 47,
   "metadata": {},
   "outputs": [
    {
     "name": "stdout",
     "output_type": "stream",
     "text": [
      "The autoreload extension is already loaded. To reload it, use:\n",
      "  %reload_ext autoreload\n"
     ]
    }
   ],
   "source": [
    "import os\n",
    "import sys\n",
    "from collections import defaultdict\n",
    "module_path = os.path.abspath(os.path.join('..'))\n",
    "if module_path not in sys.path:\n",
    "    sys.path.append(module_path)\n",
    "%load_ext autoreload\n",
    "%autoreload 2\n",
    "%reload_ext autoreload\n",
    "\n",
    "from util.CoNLL import readCoNLL, readOntoNotes\n",
    "\n",
    "\n",
    "def convert_ontonotes_to_BIO(annotations) :\n",
    "    current_tag = None\n",
    "    inside_tag = False\n",
    "    BIO_annotations = []\n",
    "    for annotation in annotations:\n",
    "        if annotation[0] == \"(\" and annotation[len(annotation) - 1] == \")\" and current_tag is None :\n",
    "            if current_tag is None :\n",
    "                BIO_annotations.append(\"B-\"+annotation[1:len(annotation)-1])\n",
    "                #print(\"B-\"+annotation[1:len(annotation)-1])\n",
    "            else :\n",
    "                print(\"WRONG ANNOTATION\")\n",
    "        elif annotation[0] == \"(\" :\n",
    "            if current_tag is not None : \n",
    "                print(\"wrong annotation\")\n",
    "                raise(\"Error\")\n",
    "            else :\n",
    "                current_tag = annotation[1: len(annotation)-1]\n",
    "                BIO_annotations.append(\"B-\"+current_tag)\n",
    "                #print(\"Starting tag : {}\".format(current_tag))\n",
    "        elif annotation == \"*\" :\n",
    "            if current_tag is not None:\n",
    "                BIO_annotations.append(\"I-\"+current_tag)\n",
    "                #print(\"Currently inside : {}\".format(current_tag))\n",
    "            else :\n",
    "                BIO_annotations.append(\"O\")\n",
    "                current_tag = None\n",
    "                #print(\"Outside\")\n",
    "        elif annotation == \"*)\":\n",
    "            if current_tag is not None :\n",
    "                BIO_annotations.append(\"I-\"+current_tag)\n",
    "                current_tag = None\n",
    "            else :\n",
    "                print(\"WRONG ANNOTATION\")\n",
    "    #print(annotations)\n",
    "    #print(BIO_annotations)\n",
    "    #print(\"=======================================\")\n",
    "    return BIO_annotations"
   ]
  },
  {
   "cell_type": "code",
   "execution_count": 66,
   "metadata": {},
   "outputs": [],
   "source": [
    "sentences = readOntoNotes(\"/Users/slouvan/sandbox/cross-domain/data/conll-formatted-ontonotes-5.0/data/train/data/english/annotations/bc/cnn/00/cnn_0001.gold_conll\",{3:'tokens', 10:'OntoNotes_Label'}, commentSymbol=\"#\")"
   ]
  },
  {
   "cell_type": "code",
   "execution_count": 67,
   "metadata": {},
   "outputs": [],
   "source": [
    "for sentence in sentences:\n",
    "    annotations = sentence['OntoNotes_Label']\n",
    "    BIO_annotations = convert_ontonotes_to_BIO(annotations)\n",
    "    "
   ]
  },
  {
   "cell_type": "code",
   "execution_count": 68,
   "metadata": {},
   "outputs": [
    {
     "data": {
      "text/plain": [
       "['B-PER', 'I-PER', 'I-PER', 'B-ORG', 'B-LOC', 'I-LOC', 'I-LOC', 'I-LOC', 'O']"
      ]
     },
     "execution_count": 68,
     "metadata": {},
     "output_type": "execute_result"
    }
   ],
   "source": [
    "convert_ontonotes_to_BIO(['(PER*', '*', '*)', '(ORG)','(LOC*','*','*', '*)', '*'])"
   ]
  },
  {
   "cell_type": "code",
   "execution_count": 75,
   "metadata": {},
   "outputs": [
    {
     "name": "stdout",
     "output_type": "stream",
     "text": [
      "12217\n"
     ]
    }
   ],
   "source": [
    "import os\n",
    "root_dir = \"/Users/slouvan/sandbox/cross-domain/data/conll-formatted-ontonotes-5.0/data/test/data/english/annotations\"\n",
    "total_sentences = 0\n",
    "for subdir, dirs, files in os.walk(root_dir):\n",
    "    for file in files:\n",
    "        current_file = os.path.join(subdir, file)\n",
    "        if current_file.endswith(\".gold_conll\"):\n",
    "            sentences = readOntoNotes(current_file,{3:'tokens', 10:'OntoNotes_Label'}, commentSymbol=\"#\")\n",
    "            for idx, sentence in enumerate(sentences):\n",
    "                annotations = sentences[idx]['OntoNotes_Label']\n",
    "                BIO_annotations = convert_ontonotes_to_BIO(annotations)\n",
    "                sentences[idx]['OntoNotes_BIO'] = BIO_annotations\n",
    "            \n",
    "            with open(current_file+\".bio\", \"w\") as f:\n",
    "                for sentence in sentences:\n",
    "                    BIO_annotations = sentence['OntoNotes_BIO']\n",
    "                    tokens = sentence['tokens']\n",
    "                    for idx, token in enumerate(tokens):\n",
    "                        f.write(\"{} {}\\n\".format(tokens[idx], BIO_annotations[idx]))\n",
    "                    f.write(\"\\n\")\n",
    "\n",
    "            total_sentences += len(sentences)\n",
    "print(total_sentences)"
   ]
  },
  {
   "cell_type": "code",
   "execution_count": null,
   "metadata": {
    "collapsed": true
   },
   "outputs": [],
   "source": []
  }
 ],
 "metadata": {
  "kernelspec": {
   "display_name": "ukp",
   "language": "python",
   "name": "lxmls"
  },
  "language_info": {
   "codemirror_mode": {
    "name": "ipython",
    "version": 3
   },
   "file_extension": ".py",
   "mimetype": "text/x-python",
   "name": "python",
   "nbconvert_exporter": "python",
   "pygments_lexer": "ipython3",
   "version": "3.5.5"
  }
 },
 "nbformat": 4,
 "nbformat_minor": 2
}
