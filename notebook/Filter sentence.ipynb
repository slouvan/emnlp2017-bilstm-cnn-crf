{
 "cells": [
  {
   "cell_type": "code",
   "execution_count": 1,
   "metadata": {
    "collapsed": true
   },
   "outputs": [],
   "source": [
    "import os\n",
    "import sys\n",
    "from collections import defaultdict\n",
    "module_path = os.path.abspath(os.path.join('..'))\n",
    "if module_path not in sys.path:\n",
    "    sys.path.append(module_path)\n",
    "%load_ext autoreload\n",
    "%autoreload 2\n",
    "%reload_ext autoreload"
   ]
  },
  {
   "cell_type": "code",
   "execution_count": 2,
   "metadata": {
    "collapsed": true
   },
   "outputs": [],
   "source": [
    "from util.CoNLL import readCoNLL"
   ]
  },
  {
   "cell_type": "code",
   "execution_count": 8,
   "metadata": {
    "collapsed": true
   },
   "outputs": [],
   "source": [
    "#sentences = readCoNLL(\"/Users/slouvan/sandbox/emnlp2017-bilstm-cnn-crf/data/CONLL_2003_NER/train.txt.ori\",{0:'tokens', 1:'CONLL_2003_BIO'})\n",
    "sentences = readCoNLL(\"/Users/slouvan/sandbox/emnlp2017-bilstm-cnn-crf/data/OntoNotes_NW/train.txt.ori\",{0:'tokens', 1:'OntoNotes_NW_BIO'})"
   ]
  },
  {
   "cell_type": "code",
   "execution_count": 9,
   "metadata": {},
   "outputs": [
    {
     "data": {
      "text/plain": [
       "{'OntoNotes_NW_BIO': ['O',\n",
       "  'O',\n",
       "  'O',\n",
       "  'O',\n",
       "  'O',\n",
       "  'O',\n",
       "  'O',\n",
       "  'O',\n",
       "  'O',\n",
       "  'O',\n",
       "  'O',\n",
       "  'O',\n",
       "  'O',\n",
       "  'O',\n",
       "  'O',\n",
       "  'O',\n",
       "  'O',\n",
       "  'O',\n",
       "  'O',\n",
       "  'O',\n",
       "  'O',\n",
       "  'O',\n",
       "  'O',\n",
       "  'O',\n",
       "  'O',\n",
       "  'O',\n",
       "  'O',\n",
       "  'O',\n",
       "  'O'],\n",
       " 'OntoNotes_NW_IOB': ['O',\n",
       "  'O',\n",
       "  'O',\n",
       "  'O',\n",
       "  'O',\n",
       "  'O',\n",
       "  'O',\n",
       "  'O',\n",
       "  'O',\n",
       "  'O',\n",
       "  'O',\n",
       "  'O',\n",
       "  'O',\n",
       "  'O',\n",
       "  'O',\n",
       "  'O',\n",
       "  'O',\n",
       "  'O',\n",
       "  'O',\n",
       "  'O',\n",
       "  'O',\n",
       "  'O',\n",
       "  'O',\n",
       "  'O',\n",
       "  'O',\n",
       "  'O',\n",
       "  'O',\n",
       "  'O',\n",
       "  'O'],\n",
       " 'OntoNotes_NW_IOBES': ['O',\n",
       "  'O',\n",
       "  'O',\n",
       "  'O',\n",
       "  'O',\n",
       "  'O',\n",
       "  'O',\n",
       "  'O',\n",
       "  'O',\n",
       "  'O',\n",
       "  'O',\n",
       "  'O',\n",
       "  'O',\n",
       "  'O',\n",
       "  'O',\n",
       "  'O',\n",
       "  'O',\n",
       "  'O',\n",
       "  'O',\n",
       "  'O',\n",
       "  'O',\n",
       "  'O',\n",
       "  'O',\n",
       "  'O',\n",
       "  'O',\n",
       "  'O',\n",
       "  'O',\n",
       "  'O',\n",
       "  'O'],\n",
       " 'OntoNotes_NW_class': ['O',\n",
       "  'O',\n",
       "  'O',\n",
       "  'O',\n",
       "  'O',\n",
       "  'O',\n",
       "  'O',\n",
       "  'O',\n",
       "  'O',\n",
       "  'O',\n",
       "  'O',\n",
       "  'O',\n",
       "  'O',\n",
       "  'O',\n",
       "  'O',\n",
       "  'O',\n",
       "  'O',\n",
       "  'O',\n",
       "  'O',\n",
       "  'O',\n",
       "  'O',\n",
       "  'O',\n",
       "  'O',\n",
       "  'O',\n",
       "  'O',\n",
       "  'O',\n",
       "  'O',\n",
       "  'O',\n",
       "  'O'],\n",
       " 'tokens': ['After',\n",
       "  'the',\n",
       "  'release',\n",
       "  'of',\n",
       "  'a',\n",
       "  'report',\n",
       "  'by',\n",
       "  'the',\n",
       "  'U.',\n",
       "  'S.',\n",
       "  'State',\n",
       "  'Department',\n",
       "  ',',\n",
       "  'he',\n",
       "  'said',\n",
       "  ',',\n",
       "  '\"',\n",
       "  'Currently',\n",
       "  ',',\n",
       "  'North',\n",
       "  'Korea',\n",
       "  'has',\n",
       "  'still',\n",
       "  'not',\n",
       "  'provided',\n",
       "  'that',\n",
       "  'guarantee',\n",
       "  '.',\n",
       "  '\"']}"
      ]
     },
     "execution_count": 9,
     "metadata": {},
     "output_type": "execute_result"
    }
   ],
   "source": [
    "sentences[1]"
   ]
  },
  {
   "cell_type": "code",
   "execution_count": 10,
   "metadata": {
    "collapsed": true
   },
   "outputs": [],
   "source": [
    "tag_counter = defaultdict(int)\n",
    "for sentence in sentences :\n",
    "    annotations = sentence['OntoNotes_NW_BIO']\n",
    "    for annotation in annotations:\n",
    "        if annotation.startswith(\"B-\"):\n",
    "            field = annotation.split(\"B-\")\n",
    "            tag_counter[field[1]]  =  tag_counter[field[1]] + 1"
   ]
  },
  {
   "cell_type": "code",
   "execution_count": 11,
   "metadata": {},
   "outputs": [
    {
     "data": {
      "text/plain": [
       "defaultdict(int,\n",
       "            {'CARDINAL': 6432,\n",
       "             'DATE': 13193,\n",
       "             'EVENT': 396,\n",
       "             'FAC': 475,\n",
       "             'GPE': 11936,\n",
       "             'LANGUAGE': 80,\n",
       "             'LAW': 293,\n",
       "             'LOC': 1103,\n",
       "             'MONEY': 4654,\n",
       "             'NORP': 3734,\n",
       "             'ORDINAL': 1087,\n",
       "             'ORG': 18028,\n",
       "             'PERCENT': 3419,\n",
       "             'PERSON': 10408,\n",
       "             'PRODUCT': 527,\n",
       "             'QUANTITY': 742,\n",
       "             'TIME': 694,\n",
       "             'WORK_OF_ART': 521})"
      ]
     },
     "execution_count": 11,
     "metadata": {},
     "output_type": "execute_result"
    }
   ],
   "source": [
    "tag_counter"
   ]
  },
  {
   "cell_type": "code",
   "execution_count": 64,
   "metadata": {
    "collapsed": true
   },
   "outputs": [],
   "source": [
    "def filter_sent_by_tag(sentences, tags, filter_criterion):\n",
    "    counter = 0\n",
    "    filtered_sentence = []\n",
    "    for sentence in sentences :\n",
    "        keys = sentence.keys()\n",
    "        label_key = \"\"\n",
    "        for key in keys :\n",
    "            if \"_BIO\" in key:\n",
    "                label_key = key\n",
    "                break\n",
    "        annotations = sentence[label_key]\n",
    "        unique_tags = set()\n",
    "        for annotation in annotations:\n",
    "            if annotation.startswith(\"B-\"):\n",
    "                field = annotation.split(\"B-\")\n",
    "                unique_tags.add(field[1])\n",
    "        if filter_criterion == \"ONLY\" :\n",
    "            if tags == unique_tags or unique_tags.issubset(tags) and len(unique_tags) > 0: \n",
    "                filtered_sentence.append(sentence)\n",
    "        if filter_criterion == \"CONTAINS\" :\n",
    "            if len( tags.intersection(unique_tags)) > 0: \n",
    "                filtered_sentence.append(sentence)\n",
    "    return filtered_sentence"
   ]
  },
  {
   "cell_type": "code",
   "execution_count": 65,
   "metadata": {},
   "outputs": [
    {
     "data": {
      "text/plain": [
       "4979"
      ]
     },
     "execution_count": 65,
     "metadata": {},
     "output_type": "execute_result"
    }
   ],
   "source": [
    "filter_tag = {'LOC','ORG'}\n",
    "unique_tag = {'ORG'}\n",
    "filtered_sentences = filter_sent_by_tag(sentences, filter_tag, \"ONLY\")\n",
    "len(filtered_sentences)"
   ]
  },
  {
   "cell_type": "code",
   "execution_count": 52,
   "metadata": {},
   "outputs": [
    {
     "data": {
      "text/plain": [
       "True"
      ]
     },
     "execution_count": 52,
     "metadata": {},
     "output_type": "execute_result"
    }
   ],
   "source": [
    "unique_tag.issubset(filter_tag)"
   ]
  },
  {
   "cell_type": "code",
   "execution_count": 46,
   "metadata": {
    "collapsed": true
   },
   "outputs": [],
   "source": [
    "sent_length = [len(sent['tokens']) for sent in filtered_sentences]"
   ]
  },
  {
   "cell_type": "code",
   "execution_count": 47,
   "metadata": {},
   "outputs": [
    {
     "data": {
      "text/plain": [
       "9.340458015267176"
      ]
     },
     "execution_count": 47,
     "metadata": {},
     "output_type": "execute_result"
    }
   ],
   "source": [
    "sum(sent_length) / ( len(sent_length) * 1.0)"
   ]
  },
  {
   "cell_type": "code",
   "execution_count": 18,
   "metadata": {},
   "outputs": [
    {
     "data": {
      "text/plain": [
       "{'CONLL_2003_BIO': ['B-LOC',\n",
       "  'O',\n",
       "  'O',\n",
       "  'O',\n",
       "  'O',\n",
       "  'B-LOC',\n",
       "  'O',\n",
       "  'O',\n",
       "  'O',\n",
       "  'O',\n",
       "  'O',\n",
       "  'O',\n",
       "  'O',\n",
       "  'O',\n",
       "  'O'],\n",
       " 'CONLL_2003_IOB': ['I-LOC',\n",
       "  'O',\n",
       "  'O',\n",
       "  'O',\n",
       "  'O',\n",
       "  'I-LOC',\n",
       "  'O',\n",
       "  'O',\n",
       "  'O',\n",
       "  'O',\n",
       "  'O',\n",
       "  'O',\n",
       "  'O',\n",
       "  'O',\n",
       "  'O'],\n",
       " 'CONLL_2003_IOBES': ['S-LOC',\n",
       "  'O',\n",
       "  'O',\n",
       "  'O',\n",
       "  'O',\n",
       "  'S-LOC',\n",
       "  'O',\n",
       "  'O',\n",
       "  'O',\n",
       "  'O',\n",
       "  'O',\n",
       "  'O',\n",
       "  'O',\n",
       "  'O',\n",
       "  'O'],\n",
       " 'CONLL_2003_class': ['LOC',\n",
       "  'O',\n",
       "  'O',\n",
       "  'O',\n",
       "  'O',\n",
       "  'LOC',\n",
       "  'O',\n",
       "  'O',\n",
       "  'O',\n",
       "  'O',\n",
       "  'O',\n",
       "  'O',\n",
       "  'O',\n",
       "  'O',\n",
       "  'O'],\n",
       " 'tokens': ['Germany',\n",
       "  'imported',\n",
       "  '47,600',\n",
       "  'sheep',\n",
       "  'from',\n",
       "  'Britain',\n",
       "  'last',\n",
       "  'year',\n",
       "  ',',\n",
       "  'nearly',\n",
       "  'half',\n",
       "  'of',\n",
       "  'total',\n",
       "  'imports',\n",
       "  '.']}"
      ]
     },
     "execution_count": 18,
     "metadata": {},
     "output_type": "execute_result"
    }
   ],
   "source": [
    "filtered_sentences[1]"
   ]
  },
  {
   "cell_type": "code",
   "execution_count": null,
   "metadata": {
    "collapsed": true
   },
   "outputs": [],
   "source": []
  }
 ],
 "metadata": {
  "kernelspec": {
   "display_name": "ukp",
   "language": "python",
   "name": "lxmls"
  },
  "language_info": {
   "codemirror_mode": {
    "name": "ipython",
    "version": 3
   },
   "file_extension": ".py",
   "mimetype": "text/x-python",
   "name": "python",
   "nbconvert_exporter": "python",
   "pygments_lexer": "ipython3",
   "version": "3.5.5"
  }
 },
 "nbformat": 4,
 "nbformat_minor": 2
}
