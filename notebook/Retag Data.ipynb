{
 "cells": [
  {
   "cell_type": "code",
   "execution_count": 12,
   "metadata": {},
   "outputs": [
    {
     "name": "stdout",
     "output_type": "stream",
     "text": [
      "The autoreload extension is already loaded. To reload it, use:\n",
      "  %reload_ext autoreload\n"
     ]
    }
   ],
   "source": [
    "import os\n",
    "import sys\n",
    "from collections import defaultdict\n",
    "module_path = os.path.abspath(os.path.join('..'))\n",
    "if module_path not in sys.path:\n",
    "    sys.path.append(module_path)\n",
    "%load_ext autoreload\n",
    "%autoreload 2\n",
    "%reload_ext autoreload\n",
    "\n",
    "from util.CoNLL import readCoNLL"
   ]
  },
  {
   "cell_type": "code",
   "execution_count": 18,
   "metadata": {},
   "outputs": [],
   "source": [
    "sentences = readCoNLL(\"/Users/slouvan/sandbox/emnlp2017-bilstm-cnn-crf/results/MultiTask_MIT_Movie_Full_PER_ONLY/predictions/MIT_Movie_14_dev.conll\",{0:'tokens', 1:'GOLD', 2:'PREDICT'})"
   ]
  },
  {
   "cell_type": "code",
   "execution_count": 19,
   "metadata": {},
   "outputs": [
    {
     "data": {
      "text/plain": [
       "{'GOLD': ['O', 'O', 'O', 'O', 'O', 'B-GENRE', 'O', 'B-ACTOR', 'I-ACTOR'],\n",
       " 'PREDICT': ['O', 'O', 'O', 'O', 'O', 'B-GENRE', 'O', 'B-ACTOR', 'I-ACTOR'],\n",
       " 'tokens': ['is',\n",
       "  'there',\n",
       "  'a',\n",
       "  'movie',\n",
       "  'for',\n",
       "  'children',\n",
       "  'starring',\n",
       "  'humphrey',\n",
       "  'bogart']}"
      ]
     },
     "execution_count": 19,
     "metadata": {},
     "output_type": "execute_result"
    }
   ],
   "source": [
    "sentences[0]\n",
    "    "
   ]
  },
  {
   "cell_type": "code",
   "execution_count": 20,
   "metadata": {
    "collapsed": true
   },
   "outputs": [],
   "source": [
    "for sent in sentences:\n",
    "    gold = sent['GOLD']\n",
    "    pred = sent['PREDICT']\n",
    "    gold = [ x[0]+\"-PER\" if \"CHARACTER\" in x or \"DIRECTOR\" in x or \"ACTOR\" in x else x for x in gold]\n",
    "    pred = [ x[0]+\"-PER\" if \"CHARACTER\" in x or \"DIRECTOR\" in x or \"ACTOR\" in x else x for x in pred]\n",
    "    sent['GOLD'] = gold\n",
    "    sent['PREDICT'] = pred"
   ]
  },
  {
   "cell_type": "code",
   "execution_count": 21,
   "metadata": {},
   "outputs": [
    {
     "data": {
      "text/plain": [
       "{'GOLD': ['O', 'O', 'O', 'O', 'O', 'B-GENRE', 'O', 'B-PER', 'I-PER'],\n",
       " 'PREDICT': ['O', 'O', 'O', 'O', 'O', 'B-GENRE', 'O', 'B-PER', 'I-PER'],\n",
       " 'tokens': ['is',\n",
       "  'there',\n",
       "  'a',\n",
       "  'movie',\n",
       "  'for',\n",
       "  'children',\n",
       "  'starring',\n",
       "  'humphrey',\n",
       "  'bogart']}"
      ]
     },
     "execution_count": 21,
     "metadata": {},
     "output_type": "execute_result"
    }
   ],
   "source": [
    "sentences[0]"
   ]
  },
  {
   "cell_type": "code",
   "execution_count": 22,
   "metadata": {
    "collapsed": true
   },
   "outputs": [],
   "source": [
    "with open(\"/Users/slouvan/sandbox/emnlp2017-bilstm-cnn-crf/results/MultiTask_MIT_Movie_Full_PER_ONLY/predictions/MIT_Movie_14_dev_retagged.conll\", \"w\") as f:\n",
    "    for sent in sentences:\n",
    "        for idx, el in enumerate(sent['tokens']):\n",
    "            f.write(sent['tokens'][idx]+\" \"+sent['GOLD'][idx]+\" \"+sent['PREDICT'][idx]+\"\\n\")\n",
    "        f.write(\"\\n\")"
   ]
  },
  {
   "cell_type": "code",
   "execution_count": 23,
   "metadata": {
    "collapsed": true
   },
   "outputs": [],
   "source": [
    "sentences = readCoNLL(\"/Users/slouvan/sandbox/emnlp2017-bilstm-cnn-crf/results/MultiTask_MIT_Movie_Full_PER_ONLY/predictions/MIT_Movie_14_dev.conll\",{0:'tokens', 1:'GOLD', 2:'PREDICT'})"
   ]
  },
  {
   "cell_type": "code",
   "execution_count": null,
   "metadata": {
    "collapsed": true
   },
   "outputs": [],
   "source": [
    "for sent in sentences:\n",
    "    gold = sent['GOLD']\n",
    "    pred = sent['PREDICT']\n",
    "    \n",
    "    for annotation in gold :\n",
    "        if \"CHARACTER\" in x or \"DIRECTOR\" in x or \"ACTOR\" in x :\n",
    "    gold = [ x[0]+\"-PER\" if \"CHARACTER\" in x or \"DIRECTOR\" in x or \"ACTOR\" in x else x for x in gold]\n",
    "    pred = [ x[0]+\"-PER\" if \"CHARACTER\" in x or \"DIRECTOR\" in x or \"ACTOR\" in x else x for x in pred]\n",
    "    sent['GOLD'] = gold\n",
    "    sent['PREDICT'] = pred"
   ]
  }
 ],
 "metadata": {
  "kernelspec": {
   "display_name": "ukp",
   "language": "python",
   "name": "lxmls"
  },
  "language_info": {
   "codemirror_mode": {
    "name": "ipython",
    "version": 3
   },
   "file_extension": ".py",
   "mimetype": "text/x-python",
   "name": "python",
   "nbconvert_exporter": "python",
   "pygments_lexer": "ipython3",
   "version": "3.5.5"
  }
 },
 "nbformat": 4,
 "nbformat_minor": 2
}
